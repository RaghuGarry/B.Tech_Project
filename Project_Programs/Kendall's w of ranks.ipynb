{
 "cells": [
  {
   "cell_type": "code",
   "execution_count": null,
   "id": "4c71917f",
   "metadata": {},
   "outputs": [],
   "source": [
    "#kendall's w of CS ranks"
   ]
  },
  {
   "cell_type": "code",
   "execution_count": 4,
   "id": "b0e683d7",
   "metadata": {},
   "outputs": [
    {
     "name": "stdout",
     "output_type": "stream",
     "text": [
      "Kendall's W:  0.305\n"
     ]
    }
   ],
   "source": [
    "import numpy as np\n",
    "import scipy.stats as stats\n",
    "rank_lists = [[6,2,8,10,7,5,4,13,9,10,12,1,11,3],\n",
    "              [5,1,9,4,13,8,3,12,2,3,6,7,10,11],\n",
    "             [10,8,5,4,7,11,1,6,3,4,2,12,13,9]]\n",
    "rank_lists = np.array(rank_lists)\n",
    "num_classifiers, num_features = rank_lists.shape\n",
    "mean_rank = np.mean(rank_lists, axis=0)\n",
    "ss_within = np.sum((rank_lists - mean_rank)**2, axis=1)\n",
    "ss_total = np.sum((rank_lists - np.mean(rank_lists))**2)\n",
    "W = 12 * ss_within / (num_features**2 * (num_classifiers**3 - num_classifiers))\n",
    "print(\"Kendall's W: \", np.round(np.mean(W), 3))"
   ]
  },
  {
   "cell_type": "code",
   "execution_count": 10,
   "id": "643a3eb6",
   "metadata": {},
   "outputs": [],
   "source": [
    "def top_k_overlap(lists, k):\n",
    "   \n",
    "    top_k_sets = [set(lst[:k]) for lst in lists]\n",
    "\n",
    "    intersections = []\n",
    "    for i in range(len(lists)):\n",
    "        for j in range(i+1, len(lists)):\n",
    "            intersection = top_k_sets[i].intersection(top_k_sets[j])\n",
    "            intersections.append(intersection)\n",
    "\n",
    "    union = set().union(*intersections)\n",
    "\n",
    "    overlap = len(union) / sum(len(lst[:k]) for lst in lists)\n",
    "\n",
    "    return overlap\n"
   ]
  },
  {
   "cell_type": "code",
   "execution_count": null,
   "id": "3b2eb5d0",
   "metadata": {},
   "outputs": [],
   "source": [
    "#top3 overlap of CS ranks"
   ]
  },
  {
   "cell_type": "code",
   "execution_count": 13,
   "id": "789e7801",
   "metadata": {},
   "outputs": [
    {
     "name": "stdout",
     "output_type": "stream",
     "text": [
      "Top-3 overlap: 0.2222222222222222\n"
     ]
    }
   ],
   "source": [
    "list1=[6,2,8,10,7,5,4,13,9,10,12,1,11,3]\n",
    "list2=[5,1,9,4,13,8,3,12,2,3,6,7,10,11]\n",
    "list3=[10,8,5,4,7,11,1,6,3,4,2,12,13,9]\n",
    "lists = [list1, list2, list3]\n",
    "k = 3\n",
    "\n",
    "overlap = top_k_overlap(lists, k)\n",
    "\n",
    "print(f\"Top-{k} overlap: {overlap}\")\n"
   ]
  },
  {
   "cell_type": "code",
   "execution_count": null,
   "id": "86c606af",
   "metadata": {},
   "outputs": [],
   "source": [
    "#top1 overlap of CS ranks"
   ]
  },
  {
   "cell_type": "code",
   "execution_count": 14,
   "id": "33d27e8f",
   "metadata": {},
   "outputs": [
    {
     "name": "stdout",
     "output_type": "stream",
     "text": [
      "Top-1 overlap: 0.0\n"
     ]
    }
   ],
   "source": [
    "list1=[6,2,8,10,7,5,4,13,9,10,12,1,11,3]\n",
    "list2=[5,1,9,4,13,8,3,12,2,3,6,7,10,11]\n",
    "list3=[10,8,5,4,7,11,1,6,3,4,2,12,13,9]\n",
    "lists = [list1, list2, list3]\n",
    "k = 1\n",
    "\n",
    "overlap = top_k_overlap(lists, k)\n",
    "\n",
    "print(f\"Top-{k} overlap: {overlap}\")"
   ]
  },
  {
   "cell_type": "code",
   "execution_count": null,
   "id": "dbded6b9",
   "metadata": {},
   "outputs": [],
   "source": []
  }
 ],
 "metadata": {
  "kernelspec": {
   "display_name": "Python 3 (ipykernel)",
   "language": "python",
   "name": "python3"
  },
  "language_info": {
   "codemirror_mode": {
    "name": "ipython",
    "version": 3
   },
   "file_extension": ".py",
   "mimetype": "text/x-python",
   "name": "python",
   "nbconvert_exporter": "python",
   "pygments_lexer": "ipython3",
   "version": "3.9.12"
  }
 },
 "nbformat": 4,
 "nbformat_minor": 5
}
